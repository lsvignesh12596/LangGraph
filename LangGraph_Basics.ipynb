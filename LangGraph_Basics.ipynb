{
  "nbformat": 4,
  "nbformat_minor": 0,
  "metadata": {
    "colab": {
      "provenance": []
    },
    "kernelspec": {
      "name": "python3",
      "display_name": "Python 3"
    },
    "language_info": {
      "name": "python"
    }
  },
  "cells": [
    {
      "cell_type": "code",
      "source": [
        "!pip install langchain langgraph openai -q"
      ],
      "metadata": {
        "colab": {
          "base_uri": "https://localhost:8080/"
        },
        "id": "28GU8hA_zDJz",
        "outputId": "f70b2025-e77a-4684-c811-ff2704a96faf"
      },
      "execution_count": 1,
      "outputs": [
        {
          "output_type": "stream",
          "name": "stdout",
          "text": [
            "\u001b[2K     \u001b[90m━━━━━━━━━━━━━━━━━━━━━━━━━━━━━━━━━━━━━━━━\u001b[0m \u001b[32m817.7/817.7 kB\u001b[0m \u001b[31m4.7 MB/s\u001b[0m eta \u001b[36m0:00:00\u001b[0m\n",
            "\u001b[2K     \u001b[90m━━━━━━━━━━━━━━━━━━━━━━━━━━━━━━━━━━━━━━━━\u001b[0m \u001b[32m59.3/59.3 kB\u001b[0m \u001b[31m5.5 MB/s\u001b[0m eta \u001b[36m0:00:00\u001b[0m\n",
            "\u001b[2K     \u001b[90m━━━━━━━━━━━━━━━━━━━━━━━━━━━━━━━━━━━━━━━━\u001b[0m \u001b[32m309.9/309.9 kB\u001b[0m \u001b[31m26.6 MB/s\u001b[0m eta \u001b[36m0:00:00\u001b[0m\n",
            "\u001b[2K     \u001b[90m━━━━━━━━━━━━━━━━━━━━━━━━━━━━━━━━━━━━━━━━\u001b[0m \u001b[32m1.9/1.9 MB\u001b[0m \u001b[31m25.9 MB/s\u001b[0m eta \u001b[36m0:00:00\u001b[0m\n",
            "\u001b[2K     \u001b[90m━━━━━━━━━━━━━━━━━━━━━━━━━━━━━━━━━━━━━━━━\u001b[0m \u001b[32m290.2/290.2 kB\u001b[0m \u001b[31m24.4 MB/s\u001b[0m eta \u001b[36m0:00:00\u001b[0m\n",
            "\u001b[2K     \u001b[90m━━━━━━━━━━━━━━━━━━━━━━━━━━━━━━━━━━━━━━━━\u001b[0m \u001b[32m113.7/113.7 kB\u001b[0m \u001b[31m12.1 MB/s\u001b[0m eta \u001b[36m0:00:00\u001b[0m\n",
            "\u001b[2K     \u001b[90m━━━━━━━━━━━━━━━━━━━━━━━━━━━━━━━━━━━━━━━━\u001b[0m \u001b[32m75.6/75.6 kB\u001b[0m \u001b[31m7.4 MB/s\u001b[0m eta \u001b[36m0:00:00\u001b[0m\n",
            "\u001b[2K     \u001b[90m━━━━━━━━━━━━━━━━━━━━━━━━━━━━━━━━━━━━━━━━\u001b[0m \u001b[32m49.4/49.4 kB\u001b[0m \u001b[31m5.4 MB/s\u001b[0m eta \u001b[36m0:00:00\u001b[0m\n",
            "\u001b[2K     \u001b[90m━━━━━━━━━━━━━━━━━━━━━━━━━━━━━━━━━━━━━━━━\u001b[0m \u001b[32m77.9/77.9 kB\u001b[0m \u001b[31m7.2 MB/s\u001b[0m eta \u001b[36m0:00:00\u001b[0m\n",
            "\u001b[2K     \u001b[90m━━━━━━━━━━━━━━━━━━━━━━━━━━━━━━━━━━━━━━━━\u001b[0m \u001b[32m58.3/58.3 kB\u001b[0m \u001b[31m6.8 MB/s\u001b[0m eta \u001b[36m0:00:00\u001b[0m\n",
            "\u001b[2K     \u001b[90m━━━━━━━━━━━━━━━━━━━━━━━━━━━━━━━━━━━━━━━━\u001b[0m \u001b[32m53.0/53.0 kB\u001b[0m \u001b[31m5.6 MB/s\u001b[0m eta \u001b[36m0:00:00\u001b[0m\n",
            "\u001b[2K     \u001b[90m━━━━━━━━━━━━━━━━━━━━━━━━━━━━━━━━━━━━━━━━\u001b[0m \u001b[32m141.1/141.1 kB\u001b[0m \u001b[31m14.3 MB/s\u001b[0m eta \u001b[36m0:00:00\u001b[0m\n",
            "\u001b[?25h"
          ]
        }
      ]
    },
    {
      "cell_type": "code",
      "execution_count": 62,
      "metadata": {
        "id": "JlKnjXuRyxtB"
      },
      "outputs": [],
      "source": [
        "from typing import Dict, TypedDict, Optional\n",
        "from langgraph.graph import StateGraph, END\n",
        "import os\n",
        "from langchain.chains import LLMChain\n",
        "from langchain.chat_models import ChatOpenAI\n",
        "from langchain_core.prompts import ChatPromptTemplate"
      ]
    },
    {
      "cell_type": "code",
      "source": [
        "from google.colab import userdata\n",
        "os.environ['OPENAI_API_KEY']=userdata.get('OPENAI_API_KEY')"
      ],
      "metadata": {
        "id": "vgrmHeo6zfsj"
      },
      "execution_count": 63,
      "outputs": []
    },
    {
      "cell_type": "code",
      "source": [
        "class GraphState(TypedDict):\n",
        "    question: Optional[str] = None\n",
        "    classification: Optional[str] = None\n",
        "    response: Optional[str] = None"
      ],
      "metadata": {
        "id": "gq2eSjrkzorS"
      },
      "execution_count": 64,
      "outputs": []
    },
    {
      "cell_type": "code",
      "source": [
        "workflow = StateGraph(GraphState)"
      ],
      "metadata": {
        "id": "1zrzwWxQ0E5Q"
      },
      "execution_count": 65,
      "outputs": []
    },
    {
      "cell_type": "code",
      "source": [
        "llm = ChatOpenAI(model='gpt-3.5-turbo-0125', temperature=0)\n",
        "prompt = ChatPromptTemplate.from_messages(\n",
        "    [\n",
        "        (\n",
        "            \"system\",\n",
        "            \"classify the intent of given query as greeting or not_greeting. Output just the class.\",\n",
        "        ),\n",
        "        (\"human\", \"{question}\"),\n",
        "    ]\n",
        ")\n",
        "\n",
        "chain = prompt | llm\n"
      ],
      "metadata": {
        "id": "jB8q98j80U9h"
      },
      "execution_count": 66,
      "outputs": []
    },
    {
      "cell_type": "code",
      "source": [
        "def classify(question):\n",
        "\n",
        "  result = chain.invoke(\n",
        "      {\n",
        "          \"question\": question\n",
        "      }\n",
        "  )\n",
        "  return result.content"
      ],
      "metadata": {
        "id": "U6trfdRR0Nmy"
      },
      "execution_count": 67,
      "outputs": []
    },
    {
      "cell_type": "code",
      "source": [
        "def classify_input_node(state):\n",
        "  question = state.get('question','').strip()\n",
        "  classification = classify(question)\n",
        "  return {\"classification\": classification}"
      ],
      "metadata": {
        "id": "psgwS5r20-KX"
      },
      "execution_count": 68,
      "outputs": []
    },
    {
      "cell_type": "code",
      "source": [
        "def handle_greeting_node(state):\n",
        "  return {\"response\": \"Hello how can I help you today?\"}"
      ],
      "metadata": {
        "id": "wE1_pXKQ5LXN"
      },
      "execution_count": 69,
      "outputs": []
    },
    {
      "cell_type": "code",
      "source": [
        "def handle_llm(state):\n",
        "  question = state.get('question','').strip()\n",
        "  return {\"response\": llm.invoke(question).content}"
      ],
      "metadata": {
        "id": "uVHkIERf5hjI"
      },
      "execution_count": 70,
      "outputs": []
    },
    {
      "cell_type": "code",
      "source": [
        "def bye(state):\n",
        "  current_response = state.get('response')\n",
        "  return {\"response\": current_response + \". The graph has finished\"}"
      ],
      "metadata": {
        "id": "6N-dAhcL6bYt"
      },
      "execution_count": 71,
      "outputs": []
    },
    {
      "cell_type": "code",
      "source": [
        "workflow.add_node(\"classify_input\", classify_input_node)\n",
        "workflow.add_node(\"handle_greeting\", handle_greeting_node)\n",
        "workflow.add_node(\"handle_llm\", handle_llm)\n",
        "workflow.add_node(\"bye\", bye)\n"
      ],
      "metadata": {
        "id": "xxm3JlxG6yBS"
      },
      "execution_count": 72,
      "outputs": []
    },
    {
      "cell_type": "code",
      "source": [
        "workflow.set_entry_point(\"classify_input\")\n",
        "workflow.add_edge(\"handle_greeting\", END)\n",
        "workflow.add_edge(\"handle_llm\", \"bye\")\n",
        "workflow.add_edge(\"bye\", END)"
      ],
      "metadata": {
        "id": "Iv4lnv4J7IUy"
      },
      "execution_count": 73,
      "outputs": []
    },
    {
      "cell_type": "code",
      "source": [
        "def decide_next_node(state):\n",
        "  return \"handle_greeting\" if state.get(\"classification\") == \"greeting\" else \"handle_llm\""
      ],
      "metadata": {
        "id": "e8pD1IoC7no9"
      },
      "execution_count": 74,
      "outputs": []
    },
    {
      "cell_type": "code",
      "source": [
        "workflow.add_conditional_edges(\n",
        "    \"classify_input\",\n",
        "    decide_next_node,\n",
        "     {\n",
        "        \"handle_greeting\": \"handle_greeting\",\n",
        "        \"handle_llm\": \"handle_llm\"\n",
        "    }\n",
        ")"
      ],
      "metadata": {
        "id": "P4xBmO3E8Dx-"
      },
      "execution_count": 75,
      "outputs": []
    },
    {
      "cell_type": "code",
      "source": [
        "app = workflow.compile()"
      ],
      "metadata": {
        "id": "uJaDe1Hv8ptA"
      },
      "execution_count": 76,
      "outputs": []
    },
    {
      "cell_type": "code",
      "source": [
        "app.invoke({\"question\": \"my name is khan\"})"
      ],
      "metadata": {
        "colab": {
          "base_uri": "https://localhost:8080/"
        },
        "id": "mzrQVP9e8bZ4",
        "outputId": "9a6a749e-acd2-491c-81de-eb6ac18c2f17"
      },
      "execution_count": 77,
      "outputs": [
        {
          "output_type": "execute_result",
          "data": {
            "text/plain": [
              "{'question': 'my name is khan',\n",
              " 'classification': 'not_greeting',\n",
              " 'response': 'Hello Khan, nice to meet you! How can I assist you today?. The graph has finished'}"
            ]
          },
          "metadata": {},
          "execution_count": 77
        }
      ]
    },
    {
      "cell_type": "code",
      "source": [
        "app.invoke({\"question\": \"Hello mate, Good Morning\"})"
      ],
      "metadata": {
        "colab": {
          "base_uri": "https://localhost:8080/"
        },
        "id": "pRuXpqXy8oAd",
        "outputId": "3e4563d3-1605-44df-a294-f1a149a88fc0"
      },
      "execution_count": 78,
      "outputs": [
        {
          "output_type": "execute_result",
          "data": {
            "text/plain": [
              "{'question': 'Hello mate, Good Morning',\n",
              " 'classification': 'greeting',\n",
              " 'response': 'Hello how can I help you today?'}"
            ]
          },
          "metadata": {},
          "execution_count": 78
        }
      ]
    },
    {
      "cell_type": "code",
      "source": [
        "# !apt install libgraphviz-dev\n",
        "# !pip install pygraphviz"
      ],
      "metadata": {
        "id": "ahbfv-Gf9ghq"
      },
      "execution_count": null,
      "outputs": []
    },
    {
      "cell_type": "code",
      "source": [
        "from IPython.display import Image\n",
        "\n",
        "Image(app.get_graph().draw_png())"
      ],
      "metadata": {
        "colab": {
          "base_uri": "https://localhost:8080/",
          "height": 865
        },
        "id": "5KMSohum9LJx",
        "outputId": "71f0b826-235e-42f3-8b53-69a1d7ee74be"
      },
      "execution_count": 82,
      "outputs": [
        {
          "output_type": "execute_result",
          "data": {
            "image/png": "[encoded data removed]",
            "text/plain": [
              "<IPython.core.display.Image object>"
            ]
          },
          "metadata": {},
          "execution_count": 82
        }
      ]
    },
    {
      "cell_type": "code",
      "source": [
        "# !pip install grandalf"
      ],
      "metadata": {
        "id": "v9GYcWSy_mUl"
      },
      "execution_count": null,
      "outputs": []
    },
    {
      "cell_type": "code",
      "source": [
        "app.get_graph().print_ascii()"
      ],
      "metadata": {
        "colab": {
          "base_uri": "https://localhost:8080/"
        },
        "id": "l4sp960p-EPv",
        "outputId": "056ef393-8fe1-4237-bc4a-274567d0fc16"
      },
      "execution_count": 85,
      "outputs": [
        {
          "output_type": "stream",
          "name": "stdout",
          "text": [
            "           +-----------+               \n",
            "           | __start__ |               \n",
            "           +-----------+               \n",
            "                  *                    \n",
            "                  *                    \n",
            "                  *                    \n",
            "        +----------------+             \n",
            "        | classify_input |             \n",
            "        +----------------+             \n",
            "                  *                    \n",
            "                  *                    \n",
            "                  *                    \n",
            "        +------------------+           \n",
            "        | decide_next_node |           \n",
            "        +------------------+           \n",
            "            **        **               \n",
            "          **            **             \n",
            "         *                **           \n",
            "+------------+              *          \n",
            "| handle_llm |              *          \n",
            "+------------+              *          \n",
            "       *                    *          \n",
            "       *                    *          \n",
            "       *                    *          \n",
            "    +-----+       +-----------------+  \n",
            "    | bye |       | handle_greeting |  \n",
            "    +-----+*      +-----------------+  \n",
            "            **        **               \n",
            "              **    **                 \n",
            "                *  *                   \n",
            "            +---------+                \n",
            "            | __end__ |                \n",
            "            +---------+                \n"
          ]
        }
      ]
    },
    {
      "cell_type": "code",
      "source": [],
      "metadata": {
        "id": "1ie-9D1d_o_t"
      },
      "execution_count": null,
      "outputs": []
    }
  ]
}